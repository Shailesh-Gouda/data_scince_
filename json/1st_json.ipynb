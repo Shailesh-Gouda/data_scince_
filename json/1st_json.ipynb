{
 "cells": [
  {
   "cell_type": "code",
   "execution_count": null,
   "id": "53b07e75-407c-433b-ba7e-7cdb8215e77a",
   "metadata": {},
   "outputs": [
    {
     "name": "stdout",
     "output_type": "stream",
     "text": [
      "ID~ id  name is a jobTitle , phone nuber phoneNumber\n",
      "ID~ id  name is a jobTitle , phone nuber phoneNumber\n",
      "ID~ id  name is a jobTitle , phone nuber phoneNumber\n"
     ]
    }
   ],
   "source": [
    "import json\n",
    "with open('one_data.json', \"r\")as f:\n",
    "    data=json.load(f)\n",
    "    print(data)\n",
    "\n",
    "          \n",
    "def display(data):\n",
    "    for user in data['employees']:\n",
    "        print(f\"ID~ {'id'}  {'name'} is a {'jobTitle'} , phone nuber {'phoneNumber'}\")\n",
    "display(one_data)\n"
   ]
  }
 ],
 "metadata": {
  "kernelspec": {
   "display_name": "Python 3 (ipykernel)",
   "language": "python",
   "name": "python3"
  },
  "language_info": {
   "codemirror_mode": {
    "name": "ipython",
    "version": 3
   },
   "file_extension": ".py",
   "mimetype": "text/x-python",
   "name": "python",
   "nbconvert_exporter": "python",
   "pygments_lexer": "ipython3",
   "version": "3.13.5"
  }
 },
 "nbformat": 4,
 "nbformat_minor": 5
}
