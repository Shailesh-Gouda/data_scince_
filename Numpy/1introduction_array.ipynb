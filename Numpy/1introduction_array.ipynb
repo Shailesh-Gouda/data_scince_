{
 "cells": [
  {
   "cell_type": "code",
   "execution_count": 1,
   "id": "e070beac-4a12-4173-8b46-553a19faa8bc",
   "metadata": {},
   "outputs": [],
   "source": [
    "# 1st Numpy"
   ]
  },
  {
   "cell_type": "markdown",
   "id": "c74a7023-5c6f-4b81-b357-0f9038f69532",
   "metadata": {},
   "source": [
    "# install numpy by\n",
    "pip install numpy"
   ]
  },
  {
   "cell_type": "markdown",
   "id": "5257559e-77aa-469b-bef4-bde4267c5d1f",
   "metadata": {},
   "source": [
    "TYPES:-\n",
    "1.single dimensional array \n",
    "2.two  dimensional array [rows & columns]\n",
    "3.multi dimensional array [mariex]"
   ]
  },
  {
   "cell_type": "code",
   "execution_count": 2,
   "id": "8c8ec5f0-0b47-4d08-9365-d33500ad5390",
   "metadata": {},
   "outputs": [
    {
     "name": "stdout",
     "output_type": "stream",
     "text": [
      "[1 2 3 4 5 6]\n"
     ]
    }
   ],
   "source": [
    "#single dimensional array\n",
    "import numpy as np\n",
    "d1_arr=np.array([1,2,3,4,5,6])\n",
    "print(d1_arr)"
   ]
  },
  {
   "cell_type": "code",
   "execution_count": 3,
   "id": "d817d52f-699b-4e19-bece-225754a37159",
   "metadata": {},
   "outputs": [
    {
     "name": "stdout",
     "output_type": "stream",
     "text": [
      "[[1 2 3]\n",
      " [4 5 6]]\n"
     ]
    }
   ],
   "source": [
    "# two dimensional array\n",
    "import numpy as np\n",
    "d1_arr=np.array([[1,2,3],\n",
    "                  [4,5,6]])\n",
    "print(d1_arr)"
   ]
  },
  {
   "cell_type": "code",
   "execution_count": 4,
   "id": "a56efe17-f788-4c60-b37d-5b0f007e9fc0",
   "metadata": {},
   "outputs": [
    {
     "name": "stdout",
     "output_type": "stream",
     "text": [
      "[[1 2 3]\n",
      " [4 5 6]]\n"
     ]
    }
   ],
   "source": [
    "# multi dimensional array  *matriex\n",
    "\n",
    "import numpy as np\n",
    "matriex=np.array([[1,2,3],\n",
    "                  [4,5,6]])\n",
    "print(matriex)"
   ]
  },
  {
   "cell_type": "markdown",
   "id": "9ee0bcfb-eb51-4015-ab4c-da7c823f9409",
   "metadata": {},
   "source": [
    "python list to create array\n"
   ]
  },
  {
   "cell_type": "code",
   "execution_count": null,
   "id": "8943b0ec-2b77-4fd9-af2d-f8ffd8c41fd1",
   "metadata": {},
   "outputs": [],
   "source": [
    "import numpy as np"
   ]
  },
  {
   "cell_type": "code",
   "execution_count": 7,
   "id": "99642021-20bb-46d3-ad09-b25dcd5e9d94",
   "metadata": {},
   "outputs": [
    {
     "name": "stdout",
     "output_type": "stream",
     "text": [
      "[1 2 3 4 5]\n"
     ]
    }
   ],
   "source": [
    "arr=np.array([1,2,3,4,5])\n",
    "print(arr)"
   ]
  },
  {
   "cell_type": "code",
   "execution_count": 6,
   "id": "3cd7deff-090c-4c80-84a0-c96edbf057c5",
   "metadata": {},
   "outputs": [
    {
     "name": "stdout",
     "output_type": "stream",
     "text": [
      "[0. 0. 0. 0. 0.]\n"
     ]
    }
   ],
   "source": [
    "#print zeros\n",
    "\n",
    "zeros=np.zeros(5)\n",
    "print(zeros)"
   ]
  },
  {
   "cell_type": "code",
   "execution_count": 10,
   "id": "82180498-9dd8-43b2-bf13-b7d902301039",
   "metadata": {},
   "outputs": [
    {
     "name": "stdout",
     "output_type": "stream",
     "text": [
      "[[1. 1. 1. 1. 1.]]\n"
     ]
    }
   ],
   "source": [
    "# print 1s\n",
    "# we can print as tapals\n",
    "\n",
    "ones=np.ones((1,5))  #1row &5 colums od ones\n",
    "print(ones)"
   ]
  },
  {
   "cell_type": "code",
   "execution_count": 13,
   "id": "5b168573-c6c2-42d6-8589-9a068829b4e8",
   "metadata": {},
   "outputs": [
    {
     "name": "stdout",
     "output_type": "stream",
     "text": [
      "[[3 3 3 3 3]\n",
      " [3 3 3 3 3]]\n"
     ]
    }
   ],
   "source": [
    "#to add specific value  (full)\n",
    "\n",
    "full_array=np.full((2,5),3)\n",
    "print(full_array)"
   ]
  },
  {
   "cell_type": "markdown",
   "id": "888d7443-d07d-4649-afd6-6fc424a22b57",
   "metadata": {},
   "source": [
    "creating sequence of number \n",
    "it's as like 'range' function of python\n",
    "but we use 'arange()'   # arange(start,stop,step)"
   ]
  },
  {
   "cell_type": "code",
   "execution_count": 14,
   "id": "739c35fb-f115-4028-b3f6-53de18efbee1",
   "metadata": {},
   "outputs": [
    {
     "name": "stdout",
     "output_type": "stream",
     "text": [
      "[1 3 5 7 9]\n"
     ]
    }
   ],
   "source": [
    "arr=np.arange(1,10,2)\n",
    "print(arr)"
   ]
  },
  {
   "cell_type": "code",
   "execution_count": 18,
   "id": "514b10a8-b0ef-42a4-99fa-4a2aabc79271",
   "metadata": {},
   "outputs": [
    {
     "name": "stdout",
     "output_type": "stream",
     "text": [
      "[[1. 0. 0.]\n",
      " [0. 1. 0.]\n",
      " [0. 0. 1.]]\n"
     ]
    }
   ],
   "source": [
    "#identity matriex   by eye\n",
    "identity = np.eye(3)\n",
    "print(identity)"
   ]
  },
  {
   "cell_type": "code",
   "execution_count": null,
   "id": "4ad7f535-44bd-4765-9a6f-fbf84af1b134",
   "metadata": {},
   "outputs": [],
   "source": []
  },
  {
   "cell_type": "code",
   "execution_count": null,
   "id": "89fdc636-35e7-403f-8990-04bf7ef975c5",
   "metadata": {},
   "outputs": [],
   "source": []
  }
 ],
 "metadata": {
  "kernelspec": {
   "display_name": "Python 3 (ipykernel)",
   "language": "python",
   "name": "python3"
  },
  "language_info": {
   "codemirror_mode": {
    "name": "ipython",
    "version": 3
   },
   "file_extension": ".py",
   "mimetype": "text/x-python",
   "name": "python",
   "nbconvert_exporter": "python",
   "pygments_lexer": "ipython3",
   "version": "3.13.5"
  }
 },
 "nbformat": 4,
 "nbformat_minor": 5
}
