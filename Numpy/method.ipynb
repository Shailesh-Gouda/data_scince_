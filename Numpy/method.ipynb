{
 "cells": [
  {
   "cell_type": "markdown",
   "id": "385d070d-8ecd-4906-9b0b-5f5cb888c9e0",
   "metadata": {},
   "source": [
    "# numpy methods\n",
    "1. sort()\n",
    "2. sum()\n",
    "3. prod()\n",
    "4. min()\n",
    "5. max()\n",
    "6. \n",
    "   "
   ]
  },
  {
   "cell_type": "code",
   "execution_count": 19,
   "id": "08b70917-69ff-44b7-a901-74a02ca55df4",
   "metadata": {},
   "outputs": [
    {
     "name": "stdout",
     "output_type": "stream",
     "text": [
      "[1 2 3 4]\n"
     ]
    }
   ],
   "source": [
    "# sort \n",
    "import numpy as np\n",
    "arr = np.array((3,2,4,1))\n",
    "arr.sort()\n",
    "print(arr)"
   ]
  },
  {
   "cell_type": "code",
   "execution_count": 24,
   "id": "1a43624a-5f09-4d0e-bb01-066d3d0e0d73",
   "metadata": {},
   "outputs": [
    {
     "data": {
      "text/plain": [
       "np.int64(10)"
      ]
     },
     "execution_count": 24,
     "metadata": {},
     "output_type": "execute_result"
    }
   ],
   "source": [
    "\n",
    "# sum\n",
    "arr.sum()\n"
   ]
  },
  {
   "cell_type": "code",
   "execution_count": 26,
   "id": "b9b8fe69-8518-4055-8b52-cd41f99339c5",
   "metadata": {},
   "outputs": [
    {
     "data": {
      "text/plain": [
       "np.int64(24)"
      ]
     },
     "execution_count": 26,
     "metadata": {},
     "output_type": "execute_result"
    }
   ],
   "source": [
    "\n",
    "# product\n",
    "arr.prod()\n"
   ]
  },
  {
   "cell_type": "code",
   "execution_count": 30,
   "id": "edcea657-d3dd-4d0e-a094-277dbed7fdce",
   "metadata": {},
   "outputs": [
    {
     "data": {
      "text/plain": [
       "np.float64(2.5)"
      ]
     },
     "execution_count": 30,
     "metadata": {},
     "output_type": "execute_result"
    }
   ],
   "source": [
    "\n",
    "# mean\n",
    "arr.mean()   # this case 10/4\n"
   ]
  },
  {
   "cell_type": "code",
   "execution_count": 33,
   "id": "74195111-47c8-44df-8fb3-bc0f93e3c88b",
   "metadata": {},
   "outputs": [
    {
     "data": {
      "text/plain": [
       "np.int64(4)"
      ]
     },
     "execution_count": 33,
     "metadata": {},
     "output_type": "execute_result"
    }
   ],
   "source": [
    "\n",
    "#max\n",
    "arr.max()  # maximum  number of arr\n"
   ]
  },
  {
   "cell_type": "code",
   "execution_count": 37,
   "id": "e4b04e5d-6e70-430a-acc5-f396f4620f3a",
   "metadata": {},
   "outputs": [
    {
     "data": {
      "text/plain": [
       "np.int64(3)"
      ]
     },
     "execution_count": 37,
     "metadata": {},
     "output_type": "execute_result"
    }
   ],
   "source": [
    "\n",
    "#argmax\n",
    "arr.argmax()  # prints maximum index number \n"
   ]
  },
  {
   "cell_type": "code",
   "execution_count": 40,
   "id": "f93a9274-5dfa-4b1c-81d4-14333a3cbdd8",
   "metadata": {},
   "outputs": [
    {
     "data": {
      "text/plain": [
       "array([ 1,  3,  6, 10])"
      ]
     },
     "execution_count": 40,
     "metadata": {},
     "output_type": "execute_result"
    }
   ],
   "source": [
    "\n",
    "arr.cumsum()  # Cumulative sum of the elements of arr\n"
   ]
  },
  {
   "cell_type": "code",
   "execution_count": 48,
   "id": "ad7fb48e-1041-440a-b40b-a2a123481a14",
   "metadata": {},
   "outputs": [
    {
     "data": {
      "text/plain": [
       "array([1, 2, 3, 4])"
      ]
     },
     "execution_count": 48,
     "metadata": {},
     "output_type": "execute_result"
    }
   ],
   "source": [
    "\n",
    "# cumprod()\n",
    "arr.cumprod()     # Cumulative  productof the elements of arr\n"
   ]
  },
  {
   "cell_type": "markdown",
   "id": "1cd00a6a-531e-4d4a-878a-c632f3a88f00",
   "metadata": {},
   "source": [
    "#var()      Variance in Python with NumPy is a measure of how much the elements in an array differ from the mean of the array. \n",
    "\n",
    "\n",
    "Compute the mean:\n",
    "(3 + 2 + 4 + 1) / 4 = 10 / 4 = 2.5\n",
    "\n",
    "Find squared differences from the mean:\n",
    "\n",
    "(3 - 2.5)² = 0.25\n",
    "\n",
    "(2 - 2.5)² = 0.25\n",
    "\n",
    "(4 - 2.5)² = 2.25\n",
    "\n",
    "(1 - 2.5)² = 2.25\n",
    "\n",
    "Sum these squared differences:\n",
    "0.25 + 0.25 + 2.25 + 2.25 = 5\n",
    "\n",
    "Divide by number of elements (N = 4):\n",
    "5 / 4 = 1.25"
   ]
  },
  {
   "cell_type": "code",
   "execution_count": 49,
   "id": "73ff0613-883b-4382-92ac-18de06603bf7",
   "metadata": {},
   "outputs": [
    {
     "data": {
      "text/plain": [
       "np.float64(1.25)"
      ]
     },
     "execution_count": 49,
     "metadata": {},
     "output_type": "execute_result"
    }
   ],
   "source": [
    "arr.var()"
   ]
  },
  {
   "cell_type": "markdown",
   "id": "f3bb3291-b4cf-4ef8-a7a4-0be4ea5de611",
   "metadata": {},
   "source": [
    "\n"
   ]
  },
  {
   "cell_type": "markdown",
   "id": "6a282f30-2599-4c69-ad8b-6d52abb28773",
   "metadata": {},
   "source": [
    "\n"
   ]
  },
  {
   "cell_type": "code",
   "execution_count": 51,
   "id": "af463782-6071-491d-9d07-6573fb43e9de",
   "metadata": {},
   "outputs": [
    {
     "data": {
      "text/plain": [
       "np.float64(1.118033988749895)"
      ]
     },
     "execution_count": 51,
     "metadata": {},
     "output_type": "execute_result"
    }
   ],
   "source": [
    "# std()              Standard deviation\n",
    "arr.std()"
   ]
  },
  {
   "cell_type": "code",
   "execution_count": 56,
   "id": "c9646bec-cbd9-4acf-9cf7-492d9823254b",
   "metadata": {},
   "outputs": [
    {
     "data": {
      "text/plain": [
       "array([[1, 3],\n",
       "       [2, 4]])"
      ]
     },
     "execution_count": 56,
     "metadata": {},
     "output_type": "execute_result"
    }
   ],
   "source": [
    "\n",
    "arr.shape = (2,2)\n",
    "arr.T                              # Equivalent to a.transpose()"
   ]
  },
  {
   "cell_type": "code",
   "execution_count": null,
   "id": "e1af4c84-6537-416f-bf3d-0e9d91390f2d",
   "metadata": {},
   "outputs": [],
   "source": []
  }
 ],
 "metadata": {
  "kernelspec": {
   "display_name": "Python 3 (ipykernel)",
   "language": "python",
   "name": "python3"
  },
  "language_info": {
   "codemirror_mode": {
    "name": "ipython",
    "version": 3
   },
   "file_extension": ".py",
   "mimetype": "text/x-python",
   "name": "python",
   "nbconvert_exporter": "python",
   "pygments_lexer": "ipython3",
   "version": "3.13.5"
  }
 },
 "nbformat": 4,
 "nbformat_minor": 5
}
